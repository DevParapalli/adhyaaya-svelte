{
 "cells": [
  {
   "cell_type": "markdown",
   "metadata": {},
   "source": [
    "# Notebook for backend info.\n",
    "\n",
    "- Ideally, the backend is written by ourselves, with using `@firebase/auth`.\n",
    "\n"
   ]
  },
  {
   "cell_type": "markdown",
   "metadata": {},
   "source": [
    "## ProfileData\n",
    "\n",
    "- The profile is split into 2 parts, the `firebaseProfile` and the `profileData`.\n",
    "- `firebaseProfile` is managed by firebase and we can only store and update specific fields, (we are using displayName, emailVerified here)\n",
    "- `profileData` is managed by us and we can store any data we want. We will be storing details like mobile-number etc. No verification is implemented at this time however.\n"
   ]
  },
  {
   "cell_type": "code",
   "execution_count": null,
   "metadata": {},
   "outputs": [],
   "source": [
    "// Interface for the profileData is as follows.\n",
    "export interface profileDetails {\n",
    "    username: string;\n",
    "    email: string;\n",
    "    first_name: string;\n",
    "    last_name: string;\n",
    "    mobile_number: string;\n",
    "    address: string;\n",
    "    locality: string;\n",
    "    city: string;\n",
    "    state: string;\n",
    "    country: string;\n",
    "    bio: string;\n",
    "}\n"
   ]
  }
 ],
 "metadata": {
  "language_info": {
   "name": "python"
  },
  "orig_nbformat": 4
 },
 "nbformat": 4,
 "nbformat_minor": 2
}
